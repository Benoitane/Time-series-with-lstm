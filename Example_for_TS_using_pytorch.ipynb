{
  "nbformat": 4,
  "nbformat_minor": 0,
  "metadata": {
    "colab": {
      "name": "Example_for_TS_using_pytorch.ipynb",
      "provenance": [],
      "collapsed_sections": []
    },
    "kernelspec": {
      "name": "python3",
      "display_name": "Python 3"
    },
    "language_info": {
      "name": "python"
    },
    "accelerator": "GPU"
  },
  "cells": [
    {
      "cell_type": "code",
      "execution_count": 1,
      "metadata": {
        "colab": {
          "base_uri": "https://localhost:8080/"
        },
        "id": "ab9UAfQY-DxH",
        "outputId": "ed1d9c2a-0d71-4955-80ea-200206048789"
      },
      "outputs": [
        {
          "output_type": "stream",
          "name": "stdout",
          "text": [
            "Mounted at /content/drive\n"
          ]
        }
      ],
      "source": [
        "from google.colab import drive\n",
        "drive.mount('/content/drive')"
      ]
    },
    {
      "cell_type": "code",
      "source": [
        "%cd /content/drive/My\\ Drive/"
      ],
      "metadata": {
        "colab": {
          "base_uri": "https://localhost:8080/"
        },
        "id": "lnTV5Y9T-3Jj",
        "outputId": "4d83fa8d-662e-42fd-e95e-c8669ec86084"
      },
      "execution_count": 1,
      "outputs": [
        {
          "output_type": "stream",
          "name": "stdout",
          "text": [
            "/content/drive/My Drive\n"
          ]
        }
      ]
    },
    {
      "cell_type": "code",
      "source": [
        "import numpy as np\n",
        "import pandas as pd\n",
        "\n",
        "import torch\n",
        "import torch.nn as nn\n",
        "from torch.autograd import Variable\n",
        "from torch.utils.data import TensorDataset, DataLoader\n",
        "import torch.optim as optim\n",
        "\n",
        "\n",
        "from sklearn.preprocessing import MinMaxScaler, StandardScaler, MaxAbsScaler, RobustScaler\n",
        "from sklearn.metrics import mean_absolute_error, mean_squared_error, r2_score\n",
        "from sklearn.linear_model import LinearRegression\n",
        "from sklearn.model_selection import train_test_split\n",
        "\n",
        "from datetime import datetime, date\n",
        "import holidays\n",
        "\n",
        "import matplotlib.pyplot as plt\n",
        "import plotly.graph_objs as go\n",
        "from plotly.offline import iplot\n",
        "import plotly.offline as pyo"
      ],
      "metadata": {
        "id": "GyHTFnJN-LUh"
      },
      "execution_count": 45,
      "outputs": []
    },
    {
      "cell_type": "code",
      "source": [
        "device = torch.device(\"cuda\" if torch.cuda.is_available() else \"cpu\")\n",
        "print(f\"{device}\" \" is available.\")"
      ],
      "metadata": {
        "colab": {
          "base_uri": "https://localhost:8080/"
        },
        "id": "GAq2qvs4-LXJ",
        "outputId": "f6f61b25-6874-4d2c-d4c6-fb50a0327819"
      },
      "execution_count": 3,
      "outputs": [
        {
          "output_type": "stream",
          "name": "stdout",
          "text": [
            "cuda is available.\n"
          ]
        }
      ]
    },
    {
      "cell_type": "code",
      "source": [
        ""
      ],
      "metadata": {
        "id": "B-dDBRgbQrvY"
      },
      "execution_count": 15,
      "outputs": []
    },
    {
      "cell_type": "code",
      "source": [
        "df = pd.read_csv('PJME_hourly.csv')\n",
        "df = df.set_index(['Datetime'])\n",
        "df = df.rename(columns={'PJME_MW': 'value'})\n",
        "df.index = pd.to_datetime(df.index)\n",
        "df = df.sort_index()"
      ],
      "metadata": {
        "id": "25R5TdSa-LZ2"
      },
      "execution_count": 4,
      "outputs": []
    },
    {
      "cell_type": "code",
      "source": [
        "def plot_dataset(df, title):\n",
        "    data = []\n",
        "    \n",
        "    value = go.Scatter(\n",
        "        x=df.index,\n",
        "        y=df.value,\n",
        "        mode=\"lines\",\n",
        "        name=\"values\",\n",
        "        marker=dict(),\n",
        "        text=df.index,\n",
        "        line=dict(color=\"rgba(0,0,0, 0.3)\"),\n",
        "    )\n",
        "    data.append(value)\n",
        "\n",
        "    layout = dict(\n",
        "        title=title,\n",
        "        xaxis=dict(title=\"Date\", ticklen=5, zeroline=False),\n",
        "        yaxis=dict(title=\"Value\", ticklen=5, zeroline=False),\n",
        "    )\n",
        "\n",
        "    fig = dict(data=data, layout=layout)\n",
        "    iplot(fig)"
      ],
      "metadata": {
        "id": "1XNGA6oN-LcP"
      },
      "execution_count": 5,
      "outputs": []
    },
    {
      "cell_type": "code",
      "source": [
        "plot_dataset(df, title='Représentation de la série temporelle')"
      ],
      "metadata": {
        "id": "PMC8yjjQ_iHP"
      },
      "execution_count": 47,
      "outputs": []
    },
    {
      "cell_type": "code",
      "source": [
        "def generate_time_lags(df, n_lags):\n",
        "    df_n = df.copy()\n",
        "    for n in range(1, n_lags + 1):\n",
        "        df_n[f\"lag{n}\"] = df_n[\"value\"].shift(n)\n",
        "    df_n = df_n.iloc[n_lags:]\n",
        "    return df_n"
      ],
      "metadata": {
        "id": "Fs58flqZ_iKS"
      },
      "execution_count": 6,
      "outputs": []
    },
    {
      "cell_type": "code",
      "source": [
        "input_dim = 100\n",
        "df_timelags = generate_time_lags(df, input_dim)"
      ],
      "metadata": {
        "id": "MFscTHAq_iM6"
      },
      "execution_count": 7,
      "outputs": []
    },
    {
      "cell_type": "code",
      "source": [
        ""
      ],
      "metadata": {
        "id": "mriXuIsD-Le5"
      },
      "execution_count": 20,
      "outputs": []
    },
    {
      "cell_type": "code",
      "source": [
        "def onehot_encode_pd(df, cols):\n",
        "    for col in cols:\n",
        "        dummies = pd.get_dummies(df[col], prefix=col)\n",
        "    \n",
        "    return pd.concat([df, dummies], axis=1).drop(columns=cols)\n",
        "\n",
        "def generate_cyclical_features(df, col_name, period, start_num=0):\n",
        "    kwargs = {\n",
        "        f'sin_{col_name}' : lambda x: np.sin(2*np.pi*(df[col_name]-start_num)/period),\n",
        "        f'cos_{col_name}' : lambda x: np.cos(2*np.pi*(df[col_name]-start_num)/period)    \n",
        "             }\n",
        "    return df.assign(**kwargs).drop(columns=[col_name])\n",
        "\n",
        "def is_holiday(date):\n",
        "    date = date.replace(hour = 0)\n",
        "    return 1 if (date in us_holidays) else 0\n",
        "\n",
        "def add_holiday_col(df, holidays):\n",
        "    return df.assign(is_holiday = df.index.to_series().apply(is_holiday))"
      ],
      "metadata": {
        "id": "DP6NWVs9-Lhs"
      },
      "execution_count": 8,
      "outputs": []
    },
    {
      "cell_type": "code",
      "source": [
        "df_features = (df.assign(hour = df.index.hour)\n",
        "                 .assign(day = df.index.day)\n",
        "                 .assign(month = df.index.month)\n",
        "                 .assign(day_of_week = df.index.dayofweek)\n",
        "                 .assign(week_of_year = df.index.week))"
      ],
      "metadata": {
        "colab": {
          "base_uri": "https://localhost:8080/"
        },
        "id": "14JVyhx5G0Qr",
        "outputId": "7b7c5fb7-5b62-4bc6-9594-682bcd1f711c"
      },
      "execution_count": 9,
      "outputs": [
        {
          "output_type": "stream",
          "name": "stderr",
          "text": [
            "/usr/local/lib/python3.7/dist-packages/ipykernel_launcher.py:5: FutureWarning:\n",
            "\n",
            "weekofyear and week have been deprecated, please use DatetimeIndex.isocalendar().week instead, which returns a Series.  To exactly reproduce the behavior of week and weekofyear and return an Index, you may call pd.Int64Index(idx.isocalendar().week)\n",
            "\n"
          ]
        }
      ]
    },
    {
      "cell_type": "code",
      "source": [
        "df_features = onehot_encode_pd(df_features, ['month','day','day_of_week','week_of_year'])"
      ],
      "metadata": {
        "id": "mquER-5p-Lks"
      },
      "execution_count": 10,
      "outputs": []
    },
    {
      "cell_type": "code",
      "source": [
        "df_features = generate_cyclical_features(df_features, 'hour', 24, 0)"
      ],
      "metadata": {
        "id": "Z8zygkulBhCf"
      },
      "execution_count": 11,
      "outputs": []
    },
    {
      "cell_type": "code",
      "source": [
        "us_holidays = holidays.US()\n",
        "df_features = add_holiday_col(df_features, us_holidays)"
      ],
      "metadata": {
        "id": "4Yx-YbToBhFI"
      },
      "execution_count": 12,
      "outputs": []
    },
    {
      "cell_type": "code",
      "source": [
        ""
      ],
      "metadata": {
        "id": "rCfZ0yFvBhHl"
      },
      "execution_count": 12,
      "outputs": []
    },
    {
      "cell_type": "code",
      "source": [
        "def feature_label_split(df, target_col):\n",
        "    y = df[[target_col]]\n",
        "    X = df.drop(columns=[target_col])\n",
        "    return X, y\n",
        "\n",
        "def train_val_test_split(df, target_col, test_ratio):\n",
        "    val_ratio = test_ratio / (1 - test_ratio)\n",
        "    X, y = feature_label_split(df, target_col)\n",
        "    X_train, X_test, y_train, y_test = train_test_split(X, y, test_size=test_ratio, shuffle=False)\n",
        "    X_train, X_val, y_train, y_val = train_test_split(X_train, y_train, test_size=val_ratio, shuffle=False)\n",
        "    return X_train, X_val, X_test, y_train, y_val, y_test\n",
        "\n",
        "def get_scaler(scaler):\n",
        "    scalers = {\n",
        "        \"minmax\": MinMaxScaler,\n",
        "        \"standard\": StandardScaler,\n",
        "        \"maxabs\": MaxAbsScaler,\n",
        "        \"robust\": RobustScaler,\n",
        "    }\n",
        "    return scalers.get(scaler.lower())()"
      ],
      "metadata": {
        "id": "K1TKVDBMBhKN"
      },
      "execution_count": 13,
      "outputs": []
    },
    {
      "cell_type": "code",
      "source": [
        "X_train, X_val, X_test, y_train, y_val, y_test = train_val_test_split(df_features, 'value', 0.2)"
      ],
      "metadata": {
        "id": "myLOUKOYFTC5"
      },
      "execution_count": 14,
      "outputs": []
    },
    {
      "cell_type": "code",
      "source": [
        "scaler = get_scaler('minmax')\n",
        "X_train_arr = scaler.fit_transform(X_train)\n",
        "X_val_arr = scaler.transform(X_val)\n",
        "X_test_arr = scaler.transform(X_test)\n",
        "\n",
        "y_train_arr = scaler.fit_transform(y_train)\n",
        "y_val_arr = scaler.transform(y_val)\n",
        "y_test_arr = scaler.transform(y_test)"
      ],
      "metadata": {
        "id": "dbW8EjG3FTFX"
      },
      "execution_count": 15,
      "outputs": []
    },
    {
      "cell_type": "code",
      "source": [
        "batch_size = 64\n",
        "\n",
        "train_features = torch.Tensor(X_train_arr)\n",
        "train_targets = torch.Tensor(y_train_arr)\n",
        "val_features = torch.Tensor(X_val_arr)\n",
        "val_targets = torch.Tensor(y_val_arr)\n",
        "test_features = torch.Tensor(X_test_arr)\n",
        "test_targets = torch.Tensor(y_test_arr)\n",
        "\n",
        "train = TensorDataset(train_features, train_targets)\n",
        "val = TensorDataset(val_features, val_targets)\n",
        "test = TensorDataset(test_features, test_targets)\n",
        "\n",
        "train_loader = DataLoader(train, batch_size=batch_size, shuffle=False, drop_last=True)\n",
        "val_loader = DataLoader(val, batch_size=batch_size, shuffle=False, drop_last=True)\n",
        "test_loader = DataLoader(test, batch_size=batch_size, shuffle=False, drop_last=True)\n",
        "test_loader_one = DataLoader(test, batch_size=1, shuffle=False, drop_last=True)"
      ],
      "metadata": {
        "id": "t-PuqtwVFTHv"
      },
      "execution_count": 16,
      "outputs": []
    },
    {
      "cell_type": "code",
      "source": [
        "class LSTMModel(nn.Module):\n",
        "    \"\"\"LSTMModel class extends nn.Module class and works as a constructor for LSTMs.\n",
        "\n",
        "       LSTMModel class initiates a LSTM module based on PyTorch's nn.Module class.\n",
        "       It has only two methods, namely init() and forward(). While the init()\n",
        "       method initiates the model with the given input parameters, the forward()\n",
        "       method defines how the forward propagation needs to be calculated.\n",
        "       Since PyTorch automatically defines back propagation, there is no need\n",
        "       to define back propagation method.\n",
        "\n",
        "       Attributes:\n",
        "           hidden_dim (int): The number of nodes in each layer\n",
        "           layer_dim (str): The number of layers in the network\n",
        "           lstm (nn.LSTM): The LSTM model constructed with the input parameters.\n",
        "           fc (nn.Linear): The fully connected layer to convert the final state\n",
        "                           of LSTMs to our desired output shape.\n",
        "\n",
        "    \"\"\"\n",
        "    def __init__(self, input_dim, hidden_dim, layer_dim, output_dim, dropout_prob):\n",
        "        \"\"\"The __init__ method that initiates a LSTM instance.\n",
        "\n",
        "        Args:\n",
        "            input_dim (int): The number of nodes in the input layer\n",
        "            hidden_dim (int): The number of nodes in each layer\n",
        "            layer_dim (int): The number of layers in the network\n",
        "            output_dim (int): The number of nodes in the output layer\n",
        "            dropout_prob (float): The probability of nodes being dropped out\n",
        "\n",
        "        \"\"\"\n",
        "        super(LSTMModel, self).__init__()\n",
        "\n",
        "        # Defining the number of layers and the nodes in each layer\n",
        "        self.hidden_dim = hidden_dim\n",
        "        self.layer_dim = layer_dim\n",
        "\n",
        "        # LSTM layers\n",
        "        self.lstm = nn.LSTM(\n",
        "            input_dim, hidden_dim, layer_dim, batch_first=True, dropout=dropout_prob\n",
        "        )\n",
        "\n",
        "        # Fully connected layer\n",
        "        self.fc = nn.Linear(hidden_dim, output_dim)\n",
        "\n",
        "    def forward(self, x):\n",
        "        \"\"\"The forward method takes input tensor x and does forward propagation\n",
        "\n",
        "        Args:\n",
        "            x (torch.Tensor): The input tensor of the shape (batch size, sequence length, input_dim)\n",
        "\n",
        "        Returns:\n",
        "            torch.Tensor: The output tensor of the shape (batch size, output_dim)\n",
        "\n",
        "        \"\"\"\n",
        "        # Initializing hidden state for first input with zeros\n",
        "        h0 = torch.zeros(self.layer_dim, x.size(0), self.hidden_dim, device=x.device).requires_grad_()\n",
        "\n",
        "        # Initializing cell state for first input with zeros\n",
        "        c0 = torch.zeros(self.layer_dim, x.size(0), self.hidden_dim, device=x.device).requires_grad_()\n",
        "\n",
        "        # We need to detach as we are doing truncated backpropagation through time (BPTT)\n",
        "        # If we don't, we'll backprop all the way to the start even after going through another batch\n",
        "        # Forward propagation by passing in the input, hidden state, and cell state into the model\n",
        "        out, (hn, cn) = self.lstm(x, (h0.detach(), c0.detach()))\n",
        "\n",
        "        # Reshaping the outputs in the shape of (batch_size, seq_length, hidden_size)\n",
        "        # so that it can fit into the fully connected layer\n",
        "        out = out[:, -1, :]\n",
        "\n",
        "        # Convert the final state to our desired output shape (batch_size, output_dim)\n",
        "        out = self.fc(out)\n",
        "\n",
        "        return out"
      ],
      "metadata": {
        "id": "nzq3n7QmFTKn"
      },
      "execution_count": 17,
      "outputs": []
    },
    {
      "cell_type": "code",
      "source": [
        "def get_model(model, model_params):\n",
        "    models = {\n",
        "        \"lstm\": LSTMModel    \n",
        "        }\n",
        "    return models.get(model.lower())(**model_params)"
      ],
      "metadata": {
        "id": "AW-gic85JO0g"
      },
      "execution_count": 18,
      "outputs": []
    },
    {
      "cell_type": "code",
      "source": [
        "class Optimization:\n",
        "    \"\"\"Optimization is a helper class that allows training, validation, prediction.\n",
        "\n",
        "    Optimization is a helper class that takes model, loss function, optimizer function\n",
        "    learning scheduler (optional), early stopping (optional) as inputs. In return, it\n",
        "    provides a framework to train and validate the models, and to predict future values\n",
        "    based on the models.\n",
        "\n",
        "    Attributes:\n",
        "        model (RNNModel, LSTMModel, GRUModel): Model class created for the type of RNN\n",
        "        loss_fn (torch.nn.modules.Loss): Loss function to calculate the losses\n",
        "        optimizer (torch.optim.Optimizer): Optimizer function to optimize the loss function\n",
        "        train_losses (list[float]): The loss values from the training\n",
        "        val_losses (list[float]): The loss values from the validation\n",
        "        last_epoch (int): The number of epochs that the models is trained\n",
        "    \"\"\"\n",
        "    def __init__(self, model, loss_fn, optimizer, device):\n",
        "        \"\"\"\n",
        "        Args:\n",
        "            model (RNNModel, LSTMModel, GRUModel): Model class created for the type of RNN\n",
        "            loss_fn (torch.nn.modules.Loss): Loss function to calculate the losses\n",
        "            optimizer (torch.optim.Optimizer): Optimizer function to optimize the loss function\n",
        "        \"\"\"\n",
        "        self.model = model\n",
        "        self.loss_fn = loss_fn\n",
        "        self.optimizer = optimizer\n",
        "        self.device = device\n",
        "        self.train_losses = []\n",
        "        self.val_losses = []\n",
        "        \n",
        "    def train_step(self, x, y):\n",
        "        \"\"\"The method train_step completes one step of training.\n",
        "\n",
        "        Given the features (x) and the target values (y) tensors, the method completes\n",
        "        one step of the training. First, it activates the train mode to enable back prop.\n",
        "        After generating predicted values (yhat) by doing forward propagation, it calculates\n",
        "        the losses by using the loss function. Then, it computes the gradients by doing\n",
        "        back propagation and updates the weights by calling step() function.\n",
        "\n",
        "        Args:\n",
        "            x (torch.Tensor): Tensor for features to train one step\n",
        "            y (torch.Tensor): Tensor for target values to calculate losses\n",
        "\n",
        "        \"\"\"\n",
        "        # Sets model to train mode\n",
        "        self.model.train()\n",
        "\n",
        "        # Makes predictions\n",
        "        yhat = self.model(x)\n",
        "\n",
        "        # Computes loss\n",
        "        loss = self.loss_fn(y, yhat)\n",
        "\n",
        "        # Computes gradients\n",
        "        loss.backward()\n",
        "\n",
        "        # Updates parameters and zeroes gradients\n",
        "        self.optimizer.step()\n",
        "        self.optimizer.zero_grad()\n",
        "\n",
        "        # Returns the loss\n",
        "        return loss.item()\n",
        "\n",
        "    def train(self, train_loader, val_loader, batch_size=64, n_epochs=50, n_features=1):\n",
        "        \"\"\"The method train performs the model training\n",
        "\n",
        "        The method takes DataLoaders for training and validation datasets, batch size for\n",
        "        mini-batch training, number of epochs to train, and number of features as inputs.\n",
        "        Then, it carries out the training by iteratively calling the method train_step for\n",
        "        n_epochs times. If early stopping is enabled, then it  checks the stopping condition\n",
        "        to decide whether the training needs to halt before n_epochs steps. Finally, it saves\n",
        "        the model in a designated file path.\n",
        "\n",
        "        Args:\n",
        "            train_loader (torch.utils.data.DataLoader): DataLoader that stores training data\n",
        "            val_loader (torch.utils.data.DataLoader): DataLoader that stores validation data\n",
        "            batch_size (int): Batch size for mini-batch training\n",
        "            n_epochs (int): Number of epochs, i.e., train steps, to train\n",
        "            n_features (int): Number of feature columns\n",
        "\n",
        "        \"\"\"\n",
        "        model_path = f'{self.model}_{datetime.now().strftime(\"%Y-%m-%d %H:%M:%S\")}'\n",
        "\n",
        "        for epoch in range(1, n_epochs + 1):\n",
        "            batch_losses = []\n",
        "            for x_batch, y_batch in train_loader:\n",
        "                x_batch = x_batch.view([batch_size, -1, n_features]).to(self.device)\n",
        "                y_batch = y_batch.to(self.device)\n",
        "                loss = self.train_step(x_batch, y_batch)\n",
        "                batch_losses.append(loss)\n",
        "            training_loss = np.mean(batch_losses)\n",
        "            self.train_losses.append(training_loss)\n",
        "\n",
        "            with torch.no_grad():\n",
        "                batch_val_losses = []\n",
        "                for x_val, y_val in val_loader:\n",
        "                    x_val = x_val.view([batch_size, -1, n_features]).to(self.device)\n",
        "                    y_val = y_val.to(self.device)\n",
        "                    self.model.eval()\n",
        "                    yhat = self.model(x_val)\n",
        "                    val_loss = self.loss_fn(y_val, yhat).item()\n",
        "                    batch_val_losses.append(val_loss)\n",
        "                validation_loss = np.mean(batch_val_losses)\n",
        "                self.val_losses.append(validation_loss)\n",
        "\n",
        "            if (epoch <= 10) | (epoch % 50 == 0):\n",
        "                print(\n",
        "                    f\"[{epoch}/{n_epochs}] Training loss: {training_loss:.4f}\\t Validation loss: {validation_loss:.4f}\"\n",
        "                )\n",
        "\n",
        "        torch.save(self.model.state_dict(), 'model_test_LSTM')\n",
        "\n",
        "    def evaluate(self, test_loader, batch_size=1, n_features=1):\n",
        "        \"\"\"The method evaluate performs the model evaluation\n",
        "\n",
        "        The method takes DataLoaders for the test dataset, batch size for mini-batch testing,\n",
        "        and number of features as inputs. Similar to the model validation, it iteratively\n",
        "        predicts the target values and calculates losses. Then, it returns two lists that\n",
        "        hold the predictions and the actual values.\n",
        "\n",
        "        Note:\n",
        "            This method assumes that the prediction from the previous step is available at\n",
        "            the time of the prediction, and only does one-step prediction into the future.\n",
        "\n",
        "        Args:\n",
        "            test_loader (torch.utils.data.DataLoader): DataLoader that stores test data\n",
        "            batch_size (int): Batch size for mini-batch training\n",
        "            n_features (int): Number of feature columns\n",
        "\n",
        "        Returns:\n",
        "            list[float]: The values predicted by the model\n",
        "            list[float]: The actual values in the test set.\n",
        "\n",
        "        \"\"\"\n",
        "        with torch.no_grad():\n",
        "            predictions = []\n",
        "            values = []\n",
        "            for x_test, y_test in test_loader:\n",
        "                x_test = x_test.view([batch_size, -1, n_features]).to(self.device)\n",
        "                y_test = y_test.to(self.device)\n",
        "                self.model.eval()\n",
        "                yhat = self.model(x_test)\n",
        "                predictions.append(yhat.cpu().detach().numpy())\n",
        "                values.append(y_test.cpu().detach().numpy())\n",
        "\n",
        "        return predictions, values\n",
        "\n",
        "    def plot_losses(self):\n",
        "        \"\"\"The method plots the calculated loss values for training and validation\n",
        "        \"\"\"\n",
        "        plt.plot(self.train_losses, label=\"Training loss\")\n",
        "        plt.plot(self.val_losses, label=\"Validation loss\")\n",
        "        plt.legend()\n",
        "        plt.title(\"Losses\")\n",
        "        plt.show()\n",
        "        plt.close()"
      ],
      "metadata": {
        "id": "LEAGMgmZJO3G"
      },
      "execution_count": 19,
      "outputs": []
    },
    {
      "cell_type": "code",
      "source": [
        "input_dim = len(X_train.columns)\n",
        "output_dim = 1\n",
        "hidden_dim = 64\n",
        "layer_dim = 3\n",
        "batch_size = 64\n",
        "dropout = 0.2\n",
        "n_epochs = 2\n",
        "learning_rate = 1e-3\n",
        "weight_decay = 1e-6"
      ],
      "metadata": {
        "id": "dhNmiu2mJO5g"
      },
      "execution_count": 20,
      "outputs": []
    },
    {
      "cell_type": "code",
      "source": [
        "model_params = {'input_dim': input_dim,\n",
        "                'hidden_dim' : hidden_dim,\n",
        "                'layer_dim' : layer_dim,\n",
        "                'output_dim' : output_dim,\n",
        "                'dropout_prob' : dropout}\n",
        "\n",
        "model = get_model('lstm', model_params)\n",
        "model.to(device)\n",
        "loss_fn = nn.MSELoss(reduction=\"mean\")\n",
        "optimizer = optim.Adam(model.parameters(), lr=learning_rate, weight_decay=weight_decay)"
      ],
      "metadata": {
        "id": "URtDrlZmNGPG"
      },
      "execution_count": 21,
      "outputs": []
    },
    {
      "cell_type": "code",
      "source": [
        "opt = Optimization(model=model, loss_fn=loss_fn, optimizer=optimizer, device = device)\n",
        "opt.train(train_loader, val_loader, batch_size=batch_size, n_epochs=n_epochs, n_features=input_dim)\n",
        "opt.plot_losses()"
      ],
      "metadata": {
        "colab": {
          "base_uri": "https://localhost:8080/",
          "height": 316
        },
        "id": "8Pj1KNiHJO8F",
        "outputId": "e09cc774-2cf2-465f-dd7d-3f89e117c2b8"
      },
      "execution_count": 22,
      "outputs": [
        {
          "output_type": "stream",
          "name": "stdout",
          "text": [
            "[1/2] Training loss: 0.0155\t Validation loss: 0.0139\n",
            "[2/2] Training loss: 0.0115\t Validation loss: 0.0108\n"
          ]
        },
        {
          "output_type": "display_data",
          "data": {
            "image/png": "[encoded data removed]",
            "text/plain": [
              "<Figure size 432x288 with 1 Axes>"
            ]
          },
          "metadata": {
            "needs_background": "light"
          }
        }
      ]
    },
    {
      "cell_type": "code",
      "source": [
        "predictions, values = opt.evaluate(\n",
        "    test_loader_one,\n",
        "    batch_size=1,\n",
        "    n_features=input_dim\n",
        ")"
      ],
      "metadata": {
        "id": "SPKeLBmJJO-Z"
      },
      "execution_count": 23,
      "outputs": []
    },
    {
      "cell_type": "code",
      "source": [
        "def inverse_transform(scaler, df, columns):\n",
        "    for col in columns:\n",
        "        df[col] = scaler.inverse_transform(df[col])\n",
        "    return df\n",
        "\n",
        "\n",
        "def format_predictions(predictions, values, df_test, scaler):\n",
        "    vals = np.concatenate(values, axis=0).ravel()\n",
        "    preds = np.concatenate(predictions, axis=0).ravel()\n",
        "    df_result = pd.DataFrame(data={\"value\": vals, \"prediction\": preds}, index=df_test.head(len(vals)).index)\n",
        "    df_result = df_result.sort_index()\n",
        "    df_result = inverse_transform(scaler, df_result, [[\"value\", \"prediction\"]])\n",
        "    return df_result\n",
        "\n",
        "def calculate_metrics(df):\n",
        "    result_metrics = {'mae' : mean_absolute_error(df.value, df.prediction),\n",
        "                      'rmse' : mean_squared_error(df.value, df.prediction) ** 0.5,\n",
        "                      'r2' : r2_score(df.value, df.prediction)}\n",
        "    \n",
        "    print(\"Mean Absolute Error:       \", result_metrics[\"mae\"])\n",
        "    print(\"Root Mean Squared Error:   \", result_metrics[\"rmse\"])\n",
        "    print(\"R^2 Score:                 \", result_metrics[\"r2\"])\n",
        "    return result_metrics"
      ],
      "metadata": {
        "id": "uBiFl79oJPA7"
      },
      "execution_count": 36,
      "outputs": []
    },
    {
      "cell_type": "code",
      "source": [
        "df_result = format_predictions(predictions, values, X_test, scaler)"
      ],
      "metadata": {
        "id": "Io_yirvJFTNS"
      },
      "execution_count": 37,
      "outputs": []
    },
    {
      "cell_type": "code",
      "source": [
        "result_metrics = calculate_metrics(df_result)"
      ],
      "metadata": {
        "colab": {
          "base_uri": "https://localhost:8080/"
        },
        "id": "K0x__oFxFTQD",
        "outputId": "29ac08a7-c1a1-4976-d35f-32a72e4f2e0c"
      },
      "execution_count": 40,
      "outputs": [
        {
          "output_type": "stream",
          "name": "stdout",
          "text": [
            "Mean Absolute Error:        3892.2332\n",
            "Root Mean Squared Error:    4830.683595517306\n",
            "R^2 Score:                  0.4457855854656355\n"
          ]
        }
      ]
    },
    {
      "cell_type": "code",
      "source": [
        "def build_baseline_model(df, test_ratio, target_col):\n",
        "    X, y = feature_label_split(df, target_col)\n",
        "    X_train, X_test, y_train, y_test = train_test_split(X, y, test_size=test_ratio, shuffle=False)\n",
        "    model = LinearRegression()\n",
        "    model.fit(X_train, y_train)\n",
        "    prediction = model.predict(X_test)\n",
        "\n",
        "    result = pd.DataFrame(y_test)\n",
        "    result[\"prediction\"] = prediction\n",
        "    result = result.sort_index()\n",
        "\n",
        "    return result"
      ],
      "metadata": {
        "id": "eZzibo00FTTC"
      },
      "execution_count": 41,
      "outputs": []
    },
    {
      "cell_type": "code",
      "source": [
        "df_baseline = build_baseline_model(df_features, 0.2, 'value')\n",
        "baseline_metrics = calculate_metrics(df_baseline)"
      ],
      "metadata": {
        "colab": {
          "base_uri": "https://localhost:8080/"
        },
        "id": "IoWPCKJOumji",
        "outputId": "968a6aed-453e-4b2c-bf69-629b44077b72"
      },
      "execution_count": 42,
      "outputs": [
        {
          "output_type": "stream",
          "name": "stdout",
          "text": [
            "Mean Absolute Error:        3652.5844053105866\n",
            "Root Mean Squared Error:    4589.279608903664\n",
            "R^2 Score:                  0.4997931432605698\n"
          ]
        }
      ]
    },
    {
      "cell_type": "code",
      "source": [
        "def plot_predictions(df_result, df_baseline):\n",
        "    data = []\n",
        "    \n",
        "    value = go.Scatter(\n",
        "        x=df_result.index,\n",
        "        y=df_result.value,\n",
        "        mode=\"lines\",\n",
        "        name=\"values\",\n",
        "        marker=dict(),\n",
        "        text=df_result.index,\n",
        "        line=dict(color=\"rgba(0,0,0, 0.3)\"),\n",
        "    )\n",
        "    data.append(value)\n",
        "\n",
        "    baseline = go.Scatter(\n",
        "        x=df_baseline.index,\n",
        "        y=df_baseline.prediction,\n",
        "        mode=\"lines\",\n",
        "        line={\"dash\": \"dot\"},\n",
        "        name='linear regression',\n",
        "        marker=dict(),\n",
        "        text=df_baseline.index,\n",
        "        opacity=0.8,\n",
        "    )\n",
        "    data.append(baseline)\n",
        "    \n",
        "    prediction = go.Scatter(\n",
        "        x=df_result.index,\n",
        "        y=df_result.prediction,\n",
        "        mode=\"lines\",\n",
        "        line={\"dash\": \"dot\"},\n",
        "        name='predictions',\n",
        "        marker=dict(),\n",
        "        text=df_result.index,\n",
        "        opacity=0.8,\n",
        "    )\n",
        "    data.append(prediction)\n",
        "    \n",
        "    layout = dict(\n",
        "        title=\"Predictions vs Actual Values for the dataset\",\n",
        "        xaxis=dict(title=\"Time\", ticklen=5, zeroline=False),\n",
        "        yaxis=dict(title=\"Value\", ticklen=5, zeroline=False),\n",
        "    )\n",
        "\n",
        "    fig = dict(data=data, layout=layout)\n",
        "    iplot(fig)"
      ],
      "metadata": {
        "id": "5T3G2YPSummH"
      },
      "execution_count": 43,
      "outputs": []
    },
    {
      "cell_type": "code",
      "source": [
        "pyo.init_notebook_mode()\n",
        "plot_predictions(df_result, df_baseline)"
      ],
      "metadata": {
        "id": "1AFZ5xpLyIsS"
      },
      "execution_count": 47,
      "outputs": []
    },
    {
      "cell_type": "code",
      "source": [
        ""
      ],
      "metadata": {
        "id": "dGsj8bpGyIux"
      },
      "execution_count": null,
      "outputs": []
    },
    {
      "cell_type": "code",
      "source": [
        ""
      ],
      "metadata": {
        "id": "FLb6Q_YSyIxN"
      },
      "execution_count": null,
      "outputs": []
    },
    {
      "cell_type": "code",
      "source": [
        ""
      ],
      "metadata": {
        "id": "CcnCFE-6umpC"
      },
      "execution_count": null,
      "outputs": []
    },
    {
      "cell_type": "code",
      "source": [
        ""
      ],
      "metadata": {
        "id": "-Uz1_NIQumrP"
      },
      "execution_count": null,
      "outputs": []
    }
  ]
}